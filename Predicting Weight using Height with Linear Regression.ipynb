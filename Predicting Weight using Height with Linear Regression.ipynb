{
 "cells": [
  {
   "cell_type": "markdown",
   "id": "c14960a1",
   "metadata": {},
   "source": [
    "# Predicting weight of a person using their height"
   ]
  },
  {
   "cell_type": "markdown",
   "id": "b302f94a",
   "metadata": {},
   "source": [
    "#### MUHAMMED RIZWAN P. S., CODEVITA INTERNSHIP - DATA SCIENCE\n",
    "\n",
    "SUBMITTED ON: 31/07/2022\n",
    "\n",
    "TASK: To predict weight of a person based on their height using Linear Regression(Supervised ML).\n",
    "\n",
    "Linear regression quantifies the relationship between one or more predictor variable(s) and one outcome variable. Linear regression is commonly used for predictive analysis and modeling. For example, it can be used to quantify the relative impacts of age, gender, and diet (the predictor variables) on height (the outcome variable).\n",
    "\n",
    "Linear Regression can be considered a Machine Learning algorithm that allows us to map numeric inputs to numeric outputs, fitting a line into the data points. Linear Regression as an algorithm relies on the concept of lowering the cost to maximize the performance.\n",
    "\n",
    "Note: Make sure to open the directory in the jupiter notebook page. And in this directory, create a python3 notebook."
   ]
  },
  {
   "cell_type": "markdown",
   "id": "22553c0d",
   "metadata": {},
   "source": [
    "Step 1: Install(if required) and import all the required libraries."
   ]
  },
  {
   "cell_type": "code",
   "execution_count": 1,
   "id": "5ebd9899",
   "metadata": {},
   "outputs": [],
   "source": [
    "import pandas as pd\n",
    "import tensorflow as tf\n",
    "import numpy as np"
   ]
  },
  {
   "cell_type": "markdown",
   "id": "c114ce6d",
   "metadata": {},
   "source": [
    "Step 2: Import the dataset and review.\n",
    "\n",
    "For more details about read_csv() method: https://pandas.pydata.org/docs/reference/api/pandas.read_csv.html"
   ]
  },
  {
   "cell_type": "code",
   "execution_count": 2,
   "id": "f52859ef",
   "metadata": {},
   "outputs": [
    {
     "data": {
      "text/html": [
       "<div>\n",
       "<style scoped>\n",
       "    .dataframe tbody tr th:only-of-type {\n",
       "        vertical-align: middle;\n",
       "    }\n",
       "\n",
       "    .dataframe tbody tr th {\n",
       "        vertical-align: top;\n",
       "    }\n",
       "\n",
       "    .dataframe thead th {\n",
       "        text-align: right;\n",
       "    }\n",
       "</style>\n",
       "<table border=\"1\" class=\"dataframe\">\n",
       "  <thead>\n",
       "    <tr style=\"text-align: right;\">\n",
       "      <th></th>\n",
       "      <th>Gender</th>\n",
       "      <th>Height</th>\n",
       "      <th>Weight</th>\n",
       "    </tr>\n",
       "  </thead>\n",
       "  <tbody>\n",
       "    <tr>\n",
       "      <th>0</th>\n",
       "      <td>Male</td>\n",
       "      <td>73.847017</td>\n",
       "      <td>241.893563</td>\n",
       "    </tr>\n",
       "    <tr>\n",
       "      <th>1</th>\n",
       "      <td>Male</td>\n",
       "      <td>68.781904</td>\n",
       "      <td>162.310473</td>\n",
       "    </tr>\n",
       "    <tr>\n",
       "      <th>2</th>\n",
       "      <td>Male</td>\n",
       "      <td>74.110105</td>\n",
       "      <td>212.740856</td>\n",
       "    </tr>\n",
       "    <tr>\n",
       "      <th>3</th>\n",
       "      <td>Male</td>\n",
       "      <td>71.730978</td>\n",
       "      <td>220.042470</td>\n",
       "    </tr>\n",
       "    <tr>\n",
       "      <th>4</th>\n",
       "      <td>Male</td>\n",
       "      <td>69.881796</td>\n",
       "      <td>206.349801</td>\n",
       "    </tr>\n",
       "    <tr>\n",
       "      <th>...</th>\n",
       "      <td>...</td>\n",
       "      <td>...</td>\n",
       "      <td>...</td>\n",
       "    </tr>\n",
       "    <tr>\n",
       "      <th>9995</th>\n",
       "      <td>Female</td>\n",
       "      <td>66.172652</td>\n",
       "      <td>136.777454</td>\n",
       "    </tr>\n",
       "    <tr>\n",
       "      <th>9996</th>\n",
       "      <td>Female</td>\n",
       "      <td>67.067155</td>\n",
       "      <td>170.867906</td>\n",
       "    </tr>\n",
       "    <tr>\n",
       "      <th>9997</th>\n",
       "      <td>Female</td>\n",
       "      <td>63.867992</td>\n",
       "      <td>128.475319</td>\n",
       "    </tr>\n",
       "    <tr>\n",
       "      <th>9998</th>\n",
       "      <td>Female</td>\n",
       "      <td>69.034243</td>\n",
       "      <td>163.852461</td>\n",
       "    </tr>\n",
       "    <tr>\n",
       "      <th>9999</th>\n",
       "      <td>Female</td>\n",
       "      <td>61.944246</td>\n",
       "      <td>113.649103</td>\n",
       "    </tr>\n",
       "  </tbody>\n",
       "</table>\n",
       "<p>10000 rows × 3 columns</p>\n",
       "</div>"
      ],
      "text/plain": [
       "      Gender     Height      Weight\n",
       "0       Male  73.847017  241.893563\n",
       "1       Male  68.781904  162.310473\n",
       "2       Male  74.110105  212.740856\n",
       "3       Male  71.730978  220.042470\n",
       "4       Male  69.881796  206.349801\n",
       "...      ...        ...         ...\n",
       "9995  Female  66.172652  136.777454\n",
       "9996  Female  67.067155  170.867906\n",
       "9997  Female  63.867992  128.475319\n",
       "9998  Female  69.034243  163.852461\n",
       "9999  Female  61.944246  113.649103\n",
       "\n",
       "[10000 rows x 3 columns]"
      ]
     },
     "execution_count": 2,
     "metadata": {},
     "output_type": "execute_result"
    }
   ],
   "source": [
    "# The read_csv() function is used to retrieve data from csv file.\n",
    "dataset = pd.read_csv(\"weight-height.csv\")\n",
    "dataset"
   ]
  },
  {
   "cell_type": "markdown",
   "id": "37cb20e5",
   "metadata": {},
   "source": [
    "Step 3: Analyzing data."
   ]
  },
  {
   "cell_type": "code",
   "execution_count": 3,
   "id": "97a73b21",
   "metadata": {},
   "outputs": [
    {
     "name": "stdout",
     "output_type": "stream",
     "text": [
      "<class 'pandas.core.frame.DataFrame'>\n",
      "RangeIndex: 10000 entries, 0 to 9999\n",
      "Data columns (total 3 columns):\n",
      " #   Column  Non-Null Count  Dtype  \n",
      "---  ------  --------------  -----  \n",
      " 0   Gender  10000 non-null  object \n",
      " 1   Height  10000 non-null  float64\n",
      " 2   Weight  10000 non-null  float64\n",
      "dtypes: float64(2), object(1)\n",
      "memory usage: 234.5+ KB\n"
     ]
    }
   ],
   "source": [
    "# The info() method shows details of columns, column type and number of columns.\n",
    "dataset.info()"
   ]
  },
  {
   "cell_type": "markdown",
   "id": "64f9b975",
   "metadata": {},
   "source": [
    "Step 4: Calculate Generate descriptive statistics."
   ]
  },
  {
   "cell_type": "code",
   "execution_count": 4,
   "id": "e3394734",
   "metadata": {},
   "outputs": [
    {
     "data": {
      "text/html": [
       "<div>\n",
       "<style scoped>\n",
       "    .dataframe tbody tr th:only-of-type {\n",
       "        vertical-align: middle;\n",
       "    }\n",
       "\n",
       "    .dataframe tbody tr th {\n",
       "        vertical-align: top;\n",
       "    }\n",
       "\n",
       "    .dataframe thead th {\n",
       "        text-align: right;\n",
       "    }\n",
       "</style>\n",
       "<table border=\"1\" class=\"dataframe\">\n",
       "  <thead>\n",
       "    <tr style=\"text-align: right;\">\n",
       "      <th></th>\n",
       "      <th>Height</th>\n",
       "      <th>Weight</th>\n",
       "    </tr>\n",
       "  </thead>\n",
       "  <tbody>\n",
       "    <tr>\n",
       "      <th>count</th>\n",
       "      <td>10000.000000</td>\n",
       "      <td>10000.000000</td>\n",
       "    </tr>\n",
       "    <tr>\n",
       "      <th>mean</th>\n",
       "      <td>66.367560</td>\n",
       "      <td>161.440357</td>\n",
       "    </tr>\n",
       "    <tr>\n",
       "      <th>std</th>\n",
       "      <td>3.847528</td>\n",
       "      <td>32.108439</td>\n",
       "    </tr>\n",
       "    <tr>\n",
       "      <th>min</th>\n",
       "      <td>54.263133</td>\n",
       "      <td>64.700127</td>\n",
       "    </tr>\n",
       "    <tr>\n",
       "      <th>25%</th>\n",
       "      <td>63.505620</td>\n",
       "      <td>135.818051</td>\n",
       "    </tr>\n",
       "    <tr>\n",
       "      <th>50%</th>\n",
       "      <td>66.318070</td>\n",
       "      <td>161.212928</td>\n",
       "    </tr>\n",
       "    <tr>\n",
       "      <th>75%</th>\n",
       "      <td>69.174262</td>\n",
       "      <td>187.169525</td>\n",
       "    </tr>\n",
       "    <tr>\n",
       "      <th>max</th>\n",
       "      <td>78.998742</td>\n",
       "      <td>269.989699</td>\n",
       "    </tr>\n",
       "  </tbody>\n",
       "</table>\n",
       "</div>"
      ],
      "text/plain": [
       "             Height        Weight\n",
       "count  10000.000000  10000.000000\n",
       "mean      66.367560    161.440357\n",
       "std        3.847528     32.108439\n",
       "min       54.263133     64.700127\n",
       "25%       63.505620    135.818051\n",
       "50%       66.318070    161.212928\n",
       "75%       69.174262    187.169525\n",
       "max       78.998742    269.989699"
      ]
     },
     "execution_count": 4,
     "metadata": {},
     "output_type": "execute_result"
    }
   ],
   "source": [
    "# Calculating count, mean and other descriptors for numerical columns\n",
    "dataset.describe()"
   ]
  },
  {
   "cell_type": "code",
   "execution_count": 5,
   "id": "f6f096e4",
   "metadata": {},
   "outputs": [
    {
     "data": {
      "text/plain": [
       "Gender    0\n",
       "Height    0\n",
       "Weight    0\n",
       "dtype: int64"
      ]
     },
     "execution_count": 5,
     "metadata": {},
     "output_type": "execute_result"
    }
   ],
   "source": [
    "# Checking for null values: list of number of null values in each column\n",
    "dataset.isnull().sum()"
   ]
  },
  {
   "cell_type": "markdown",
   "id": "726574e3",
   "metadata": {},
   "source": [
    "Step 3: Selecting X and Y for input and output variables and converting them to Array for easier calculation before using ML model"
   ]
  },
  {
   "cell_type": "code",
   "execution_count": 6,
   "id": "ed5cbb27",
   "metadata": {},
   "outputs": [],
   "source": [
    "X = dataset.iloc[:, :-1].values\n",
    "Y = dataset.iloc[:, 2].values"
   ]
  },
  {
   "cell_type": "markdown",
   "id": "5b00e971",
   "metadata": {},
   "source": [
    "Step 4: Convert Gender to number: Convert all categorical values (text values) to numerical , in this case convert gender variable to 0 for male and 1 for female.\n",
    "\n",
    "LabelEncoder is used for this purpose."
   ]
  },
  {
   "cell_type": "code",
   "execution_count": 7,
   "id": "0e37a491",
   "metadata": {},
   "outputs": [
    {
     "name": "stderr",
     "output_type": "stream",
     "text": [
      "C:\\Users\\thepr\\AppData\\Local\\Temp\\ipykernel_18340\\109235105.py:6: DeprecationWarning: `np.float` is a deprecated alias for the builtin `float`. To silence this warning, use `float` by itself. Doing this will not modify any behavior and is safe. If you specifically wanted the numpy scalar type, use `np.float64` here.\n",
      "Deprecated in NumPy 1.20; for more details and guidance: https://numpy.org/devdocs/release/1.20.0-notes.html#deprecations\n",
      "  X = np.vstack(X[:, :]).astype(np.float)\n"
     ]
    }
   ],
   "source": [
    "from sklearn.preprocessing import LabelEncoder\n",
    "LabelEncoder_gender = LabelEncoder()\n",
    "X[:, 0] = LabelEncoder_gender.fit_transform(X[:, 0])\n",
    "\n",
    "import numpy as np\n",
    "X = np.vstack(X[:, :]).astype(np.float)"
   ]
  },
  {
   "cell_type": "code",
   "execution_count": 8,
   "id": "c4f51671",
   "metadata": {},
   "outputs": [
    {
     "data": {
      "text/plain": [
       "array([[ 1.        , 73.84701702],\n",
       "       [ 1.        , 68.78190405],\n",
       "       [ 1.        , 74.11010539]])"
      ]
     },
     "execution_count": 8,
     "metadata": {},
     "output_type": "execute_result"
    }
   ],
   "source": [
    "X[:3]"
   ]
  },
  {
   "cell_type": "markdown",
   "id": "1ce07a82",
   "metadata": {},
   "source": [
    "Step 4: After dataset is prepared, split dataset into training set and test set We will use 80% of the data for training and 20% of the data for testing."
   ]
  },
  {
   "cell_type": "code",
   "execution_count": 9,
   "id": "b92a05b8",
   "metadata": {},
   "outputs": [],
   "source": [
    "from sklearn.model_selection import train_test_split\n",
    "X_train, X_test, Y_train, Y_test = train_test_split(X, Y, test_size = 0.2, random_state = 0)"
   ]
  },
  {
   "cell_type": "markdown",
   "id": "06bcdf6e",
   "metadata": {},
   "source": [
    "Step 5: Fit Regression Model Using LinearRegression to train our model."
   ]
  },
  {
   "cell_type": "code",
   "execution_count": 10,
   "id": "aa751ee1",
   "metadata": {},
   "outputs": [
    {
     "data": {
      "text/plain": [
       "LinearRegression()"
      ]
     },
     "execution_count": 10,
     "metadata": {},
     "output_type": "execute_result"
    }
   ],
   "source": [
    "from sklearn.linear_model import LinearRegression\n",
    "lr = LinearRegression()\n",
    "lr.fit(X_train, Y_train)"
   ]
  },
  {
   "cell_type": "markdown",
   "id": "872cb20a",
   "metadata": {},
   "source": [
    "Step 6: Predict test set values."
   ]
  },
  {
   "cell_type": "code",
   "execution_count": 11,
   "id": "c9268fab",
   "metadata": {},
   "outputs": [],
   "source": [
    "lrpred = lr.predict(X_test)"
   ]
  },
  {
   "cell_type": "markdown",
   "id": "b0728fdb",
   "metadata": {},
   "source": [
    "Compare the predicted values (lin_pred) with the actual values (y_test). We can see that our model did a fairly good job."
   ]
  },
  {
   "cell_type": "code",
   "execution_count": 12,
   "id": "668a27b6",
   "metadata": {},
   "outputs": [
    {
     "data": {
      "text/plain": [
       "array([141.93828842, 176.55658781, 219.77836195, 148.83188401,\n",
       "       162.0920759 , 105.84706638, 142.40537439, 134.34505435,\n",
       "       184.01021005, 196.05450515])"
      ]
     },
     "execution_count": 12,
     "metadata": {},
     "output_type": "execute_result"
    }
   ],
   "source": [
    "lrpred[:10]"
   ]
  },
  {
   "cell_type": "code",
   "execution_count": 13,
   "id": "16093099",
   "metadata": {},
   "outputs": [
    {
     "data": {
      "text/plain": [
       "array([138.0857961 , 187.36336585, 216.53319128, 131.76144282,\n",
       "       157.71843843,  98.51607861, 149.63194856, 133.515492  ,\n",
       "       188.05333309, 210.1988449 ])"
      ]
     },
     "execution_count": 13,
     "metadata": {},
     "output_type": "execute_result"
    }
   ],
   "source": [
    "Y_test[:10]"
   ]
  },
  {
   "cell_type": "markdown",
   "id": "838413c1",
   "metadata": {},
   "source": [
    "Step 7: Model Evaluation."
   ]
  },
  {
   "cell_type": "code",
   "execution_count": 14,
   "id": "42f874ee",
   "metadata": {},
   "outputs": [
    {
     "name": "stdout",
     "output_type": "stream",
     "text": [
      "R Square =  0.9052889824534557\n",
      "Mean Squared Error =  97.87152220196165\n",
      "Mean Absolute Error =  7.955916525326746\n"
     ]
    }
   ],
   "source": [
    "from sklearn import metrics\n",
    "print(\"R Square = \", metrics.r2_score(Y_test, lrpred))\n",
    "print(\"Mean Squared Error = \", metrics.mean_squared_error(Y_test, lrpred))\n",
    "print(\"Mean Absolute Error = \", metrics.mean_absolute_error(Y_test, lrpred))"
   ]
  },
  {
   "cell_type": "code",
   "execution_count": 15,
   "id": "6c62107b",
   "metadata": {},
   "outputs": [
    {
     "name": "stdout",
     "output_type": "stream",
     "text": [
      "My predicted weight =  [155.50992349]\n",
      "You are healthy!\n"
     ]
    }
   ],
   "source": [
    "# Predicting weight using height and calculating health status.\n",
    "h = 67\n",
    "my_pred_weight = lr.predict([[0, h]])\n",
    "print('My predicted weight = ', my_pred_weight)\n",
    "bmi = (my_pred_weight * 0.4535) / (h * 0.0254 * h * 0.0254)\n",
    "if bmi < 18.5:\n",
    "    print(\"You are underweight!\")\n",
    "elif bmi >= 18.5 and bmi < 24.9:\n",
    "    print(\"You are healthy!\")\n",
    "elif bmi>=24.9 and bmi < 29.9:\n",
    "    print(\"You are overweight!\")\n",
    "else:\n",
    "    print(\"You are obese!\")"
   ]
  },
  {
   "cell_type": "markdown",
   "id": "4c23f81c",
   "metadata": {},
   "source": [
    "### Visualising the data"
   ]
  },
  {
   "cell_type": "code",
   "execution_count": 16,
   "id": "b6db0b5c",
   "metadata": {},
   "outputs": [],
   "source": [
    "from matplotlib import pyplot as plt\n",
    "import numpy as np\n",
    "\n",
    "# Preparing X and Y from the given data\n",
    "df = pd.read_csv(\"weight-height.csv\")\n",
    "dt = df.to_numpy()\n",
    "\n",
    "X = dt[1:, 1].astype(\"float64\")\n",
    "Y = dt[1:, 2].astype(\"float\")"
   ]
  },
  {
   "cell_type": "code",
   "execution_count": 17,
   "id": "76591640",
   "metadata": {},
   "outputs": [
    {
     "data": {
      "text/plain": [
       "array([68.78190405, 74.11010539, 71.7309784 , 69.88179586, 67.25301569])"
      ]
     },
     "execution_count": 17,
     "metadata": {},
     "output_type": "execute_result"
    }
   ],
   "source": [
    "X[:5]"
   ]
  },
  {
   "cell_type": "code",
   "execution_count": 18,
   "id": "82db6fbd",
   "metadata": {},
   "outputs": [
    {
     "data": {
      "text/plain": [
       "[<matplotlib.lines.Line2D at 0x1c84ed7aee0>]"
      ]
     },
     "execution_count": 18,
     "metadata": {},
     "output_type": "execute_result"
    },
    {
     "data": {
      "image/png": "[encoded data removed]",
      "text/plain": [
       "<Figure size 432x288 with 1 Axes>"
      ]
     },
     "metadata": {
      "needs_background": "light"
     },
     "output_type": "display_data"
    }
   ],
   "source": [
    "m, b = np.polyfit(X, Y, 1)\n",
    "plt.plot(X, Y, 'o')\n",
    "\n",
    "# Create a scattered plot\n",
    "plt.plot(X, m*X + b)"
   ]
  }
 ],
 "metadata": {
  "kernelspec": {
   "display_name": "Python 3 (ipykernel)",
   "language": "python",
   "name": "python3"
  },
  "language_info": {
   "codemirror_mode": {
    "name": "ipython",
    "version": 3
   },
   "file_extension": ".py",
   "mimetype": "text/x-python",
   "name": "python",
   "nbconvert_exporter": "python",
   "pygments_lexer": "ipython3",
   "version": "3.9.12"
  }
 },
 "nbformat": 4,
 "nbformat_minor": 5
}
